{
 "cells": [
  {
   "cell_type": "markdown",
   "id": "23595ca5-9676-4dfc-ab64-5884c26d4e20",
   "metadata": {},
   "source": [
    "<h1> Data Science Tools and Ecosystem </h1>"
   ]
  },
  {
   "cell_type": "markdown",
   "id": "d53dac82-4a95-4023-b88b-aca15703554f",
   "metadata": {},
   "source": [
    "In this notebook, Data Science Tools and Ecosystem are summarized."
   ]
  },
  {
   "cell_type": "markdown",
   "id": "7659f571-477d-43b2-84ec-f819a0bc7f9f",
   "metadata": {},
   "source": [
    "**Objectives:**\n",
    "- Popular languages in Data Science\n",
    "- Libraries in Data Science\n",
    "- Data Science Tools\n",
    "- Two simple arithmetic expressions in python"
   ]
  },
  {
   "cell_type": "markdown",
   "id": "ab763aa3-738d-43d2-bd4e-8764640fa5ed",
   "metadata": {
    "tags": []
   },
   "source": [
    "Some of the popular languages that Data Scientists use are:\n",
    "1. Python\n",
    "2. R\n",
    "3. SQL"
   ]
  },
  {
   "cell_type": "markdown",
   "id": "014077e0-3f49-48c7-8776-d96efb7f5150",
   "metadata": {
    "tags": []
   },
   "source": [
    "Some of the commonly used libraries used by Data Scientists include:\n",
    "1. Numpy\n",
    "2. Pandas\n",
    "3. Matplotlib"
   ]
  },
  {
   "cell_type": "markdown",
   "id": "79adad0b-7b38-4f47-a1c9-3cdf182b8533",
   "metadata": {},
   "source": [
    "|Data Science Tools|\n",
    "|------------------|\n",
    "|Jupyter Notebook|\n",
    "|RStudio IDE|\n",
    "|Zeppelin Notebooks|"
   ]
  },
  {
   "cell_type": "markdown",
   "id": "72488ba6-00c3-4b05-8f15-a21d3ab2b97a",
   "metadata": {},
   "source": [
    "### Below are a few examples of evaluating arithmetic expressions in Python"
   ]
  },
  {
   "cell_type": "code",
   "execution_count": 4,
   "id": "6f123382-d66a-42d9-9cce-7e19f57ece73",
   "metadata": {
    "tags": []
   },
   "outputs": [
    {
     "data": {
      "text/plain": [
       "17"
      ]
     },
     "execution_count": 4,
     "metadata": {},
     "output_type": "execute_result"
    }
   ],
   "source": [
    "#This a simple arithmetic expression to mutiply then add integers\n",
    "(3*4)+5"
   ]
  },
  {
   "cell_type": "code",
   "execution_count": 5,
   "id": "fcf2f91f-5ae6-4320-b47d-8f3d8689e33f",
   "metadata": {
    "tags": []
   },
   "outputs": [
    {
     "data": {
      "text/plain": [
       "3.3333333333333335"
      ]
     },
     "execution_count": 5,
     "metadata": {},
     "output_type": "execute_result"
    }
   ],
   "source": [
    "#This will convert 200 minutes to hours by diving by 60\n",
    "200/60"
   ]
  },
  {
   "cell_type": "markdown",
   "id": "24acd803-b6a9-44c6-8ab7-1f3fd6650270",
   "metadata": {
    "tags": []
   },
   "source": [
    "## Author\n",
    "Umang Kalavadiya"
   ]
  },
  {
   "cell_type": "code",
   "execution_count": null,
   "id": "8f22588c-7cf8-4751-a159-bba150e229e0",
   "metadata": {},
   "outputs": [],
   "source": []
  }
 ],
 "metadata": {
  "kernelspec": {
   "display_name": "Python",
   "language": "python",
   "name": "conda-env-python-py"
  },
  "language_info": {
   "codemirror_mode": {
    "name": "ipython",
    "version": 3
   },
   "file_extension": ".py",
   "mimetype": "text/x-python",
   "name": "python",
   "nbconvert_exporter": "python",
   "pygments_lexer": "ipython3",
   "version": "3.7.12"
  }
 },
 "nbformat": 4,
 "nbformat_minor": 5
}
